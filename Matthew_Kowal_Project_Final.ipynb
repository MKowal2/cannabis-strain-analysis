{
 "cells": [
  {
   "cell_type": "code",
   "execution_count": 1,
   "metadata": {},
   "outputs": [],
   "source": [
    "# imports\n",
    "import numpy as np\n",
    "import matplotlib.pyplot as plt\n",
    "import pandas as pd \n",
    "import numpy as np\n",
    "from sklearn.utils import shuffle\n",
    "from sklearn.preprocessing import MultiLabelBinarizer\n",
    "from ast import literal_eval\n",
    "from sklearn.feature_extraction.text import TfidfVectorizer\n",
    "from sklearn.metrics.pairwise import linear_kernel\n",
    "from sklearn.naive_bayes import GaussianNB"
   ]
  },
  {
   "cell_type": "markdown",
   "metadata": {},
   "source": [
    "The dataset used is found on kaggle and named 'cannabis.csv'. Link: https://www.kaggle.com/kingburrito666/cannabis-strains \n",
    "\n",
    "The dataset consists of 6 features: Strain (name of strain), Type (indica, sativa or hybrid), Rating (from 0-5), Effects, Flavour, Description. "
   ]
  },
  {
   "cell_type": "markdown",
   "metadata": {},
   "source": [
    "Data Pre-processing"
   ]
  },
  {
   "cell_type": "code",
   "execution_count": 2,
   "metadata": {},
   "outputs": [
    {
     "data": {
      "text/html": [
       "<div>\n",
       "<style scoped>\n",
       "    .dataframe tbody tr th:only-of-type {\n",
       "        vertical-align: middle;\n",
       "    }\n",
       "\n",
       "    .dataframe tbody tr th {\n",
       "        vertical-align: top;\n",
       "    }\n",
       "\n",
       "    .dataframe thead th {\n",
       "        text-align: right;\n",
       "    }\n",
       "</style>\n",
       "<table border=\"1\" class=\"dataframe\">\n",
       "  <thead>\n",
       "    <tr style=\"text-align: right;\">\n",
       "      <th></th>\n",
       "      <th>Strain</th>\n",
       "      <th>Type</th>\n",
       "      <th>Rating</th>\n",
       "      <th>Effects</th>\n",
       "      <th>Flavor</th>\n",
       "      <th>Description</th>\n",
       "    </tr>\n",
       "  </thead>\n",
       "  <tbody>\n",
       "    <tr>\n",
       "      <th>0</th>\n",
       "      <td>100-Og</td>\n",
       "      <td>hybrid</td>\n",
       "      <td>4.0</td>\n",
       "      <td>[Creative, Energetic, Tingly, Euphoric, Relaxed]</td>\n",
       "      <td>[Earthy, Sweet, Citrus]</td>\n",
       "      <td>$100 OG is a 50/50 hybrid strain that packs a ...</td>\n",
       "    </tr>\n",
       "    <tr>\n",
       "      <th>1</th>\n",
       "      <td>98-White-Widow</td>\n",
       "      <td>hybrid</td>\n",
       "      <td>4.7</td>\n",
       "      <td>[Relaxed, Aroused, Creative, Happy, Energetic]</td>\n",
       "      <td>[Flowery, Violet, Diesel]</td>\n",
       "      <td>The 98 Aloha White Widow is an especially pote...</td>\n",
       "    </tr>\n",
       "    <tr>\n",
       "      <th>2</th>\n",
       "      <td>1024</td>\n",
       "      <td>sativa</td>\n",
       "      <td>4.4</td>\n",
       "      <td>[Uplifted, Happy, Relaxed, Energetic, Creative]</td>\n",
       "      <td>[Spicy/Herbal, Sage, Woody]</td>\n",
       "      <td>1024 is a sativa-dominant hybrid bred in Spain...</td>\n",
       "    </tr>\n",
       "    <tr>\n",
       "      <th>3</th>\n",
       "      <td>13-Dawgs</td>\n",
       "      <td>hybrid</td>\n",
       "      <td>4.2</td>\n",
       "      <td>[Tingly, Creative, Hungry, Relaxed, Uplifted]</td>\n",
       "      <td>[Apricot, Citrus, Grapefruit]</td>\n",
       "      <td>13 Dawgs is a hybrid of G13 and Chemdawg genet...</td>\n",
       "    </tr>\n",
       "    <tr>\n",
       "      <th>4</th>\n",
       "      <td>24K-Gold</td>\n",
       "      <td>hybrid</td>\n",
       "      <td>4.6</td>\n",
       "      <td>[Happy, Relaxed, Euphoric, Uplifted, Talkative]</td>\n",
       "      <td>[Citrus, Earthy, Orange]</td>\n",
       "      <td>Also known as Kosher Tangie, 24k Gold is a 60%...</td>\n",
       "    </tr>\n",
       "  </tbody>\n",
       "</table>\n",
       "</div>"
      ],
      "text/plain": [
       "           Strain    Type Rating  \\\n",
       "0          100-Og  hybrid    4.0   \n",
       "1  98-White-Widow  hybrid    4.7   \n",
       "2            1024  sativa    4.4   \n",
       "3        13-Dawgs  hybrid    4.2   \n",
       "4        24K-Gold  hybrid    4.6   \n",
       "\n",
       "                                            Effects  \\\n",
       "0  [Creative, Energetic, Tingly, Euphoric, Relaxed]   \n",
       "1    [Relaxed, Aroused, Creative, Happy, Energetic]   \n",
       "2   [Uplifted, Happy, Relaxed, Energetic, Creative]   \n",
       "3     [Tingly, Creative, Hungry, Relaxed, Uplifted]   \n",
       "4   [Happy, Relaxed, Euphoric, Uplifted, Talkative]   \n",
       "\n",
       "                          Flavor  \\\n",
       "0        [Earthy, Sweet, Citrus]   \n",
       "1      [Flowery, Violet, Diesel]   \n",
       "2    [Spicy/Herbal, Sage, Woody]   \n",
       "3  [Apricot, Citrus, Grapefruit]   \n",
       "4       [Citrus, Earthy, Orange]   \n",
       "\n",
       "                                         Description  \n",
       "0  $100 OG is a 50/50 hybrid strain that packs a ...  \n",
       "1  The 98 Aloha White Widow is an especially pote...  \n",
       "2  1024 is a sativa-dominant hybrid bred in Spain...  \n",
       "3  13 Dawgs is a hybrid of G13 and Chemdawg genet...  \n",
       "4  Also known as Kosher Tangie, 24k Gold is a 60%...  "
      ]
     },
     "execution_count": 2,
     "metadata": {},
     "output_type": "execute_result"
    }
   ],
   "source": [
    "#Opening and reading data. The data was corrupted with some non utf-8 encodable characters \n",
    "#so import while replacing errors with spaces\n",
    "data = open('cannabis.csv' ,encoding=\"utf-8\", errors='replace')\n",
    "data = pd.read_csv(data, low_memory = False)\n",
    "\n",
    "#Removing abnormal symbols and characters\n",
    "data = data.replace('�','',regex=True).astype(str)\n",
    "data = data.replace('۝','',regex=True).astype(str)\n",
    "\n",
    "#Converting strings in cells to lists of strings\n",
    "data['Flavor'] = data['Flavor'].apply(lambda x: x.split(','))\n",
    "data['Effects'] = data['Effects'].apply(lambda x: x.split(','))\n",
    "\n",
    "#Sanity Check\n",
    "data.head()"
   ]
  },
  {
   "cell_type": "code",
   "execution_count": 3,
   "metadata": {
    "scrolled": false
   },
   "outputs": [
    {
     "name": "stdout",
     "output_type": "stream",
     "text": [
      "Shape before data clean up: (2351, 6)\n",
      "Shape after data clean up: (2314, 6)\n"
     ]
    }
   ],
   "source": [
    "#Lets look at how many examples we have and remove the ones with empty or NaN values\n",
    "print(\"Shape before data clean up:\", data.shape)\n",
    "\n",
    "data.replace(['NaN', 'nan', 'None', ], np.nan, inplace=True)\n",
    "data.dropna(subset=['Strain', 'Type', 'Rating', 'Effects', 'Flavor', 'Description'],inplace = True)\n",
    "\n",
    "print(\"Shape after data clean up:\", data.shape)\n",
    "\n",
    "data = data.reset_index(drop=True)"
   ]
  },
  {
   "cell_type": "markdown",
   "metadata": {},
   "source": [
    "I will create a function for one-hot-encoding that will be used many times throughout the project. "
   ]
  },
  {
   "cell_type": "code",
   "execution_count": 4,
   "metadata": {},
   "outputs": [],
   "source": [
    "#One-hot-encoding function\n",
    "def one_hot_encoding(df, col):\n",
    "    mlb = MultiLabelBinarizer()\n",
    "    \n",
    "    df_temp = df[col]\n",
    "    df_temp = mlb.fit_transform(df_temp)\n",
    "    \n",
    "    encoded_df = pd.DataFrame(df_temp, columns=mlb.classes_)\n",
    "    encoded_df = pd.get_dummies(encoded_df)\n",
    "    \n",
    "    \n",
    "    encoded_df = pd.DataFrame(encoded_df)\n",
    "    \n",
    "    df = df.drop(columns=[col])  \n",
    "    df = pd.merge(encoded_df, df, right_index=True, left_index=True)\n",
    "    \n",
    "    return df"
   ]
  },
  {
   "cell_type": "code",
   "execution_count": 5,
   "metadata": {
    "scrolled": true
   },
   "outputs": [
    {
     "data": {
      "text/html": [
       "<div>\n",
       "<style scoped>\n",
       "    .dataframe tbody tr th:only-of-type {\n",
       "        vertical-align: middle;\n",
       "    }\n",
       "\n",
       "    .dataframe tbody tr th {\n",
       "        vertical-align: top;\n",
       "    }\n",
       "\n",
       "    .dataframe thead th {\n",
       "        text-align: right;\n",
       "    }\n",
       "</style>\n",
       "<table border=\"1\" class=\"dataframe\">\n",
       "  <thead>\n",
       "    <tr style=\"text-align: right;\">\n",
       "      <th></th>\n",
       "      <th>Strain</th>\n",
       "      <th>Type</th>\n",
       "      <th>Rating</th>\n",
       "      <th>Effects</th>\n",
       "      <th>Flavor</th>\n",
       "      <th>Description</th>\n",
       "    </tr>\n",
       "  </thead>\n",
       "  <tbody>\n",
       "    <tr>\n",
       "      <th>0</th>\n",
       "      <td>100-Og</td>\n",
       "      <td>[hybrid]</td>\n",
       "      <td>4.0</td>\n",
       "      <td>[Creative, Energetic, Tingly, Euphoric, Relaxed]</td>\n",
       "      <td>[Earthy, Sweet, Citrus]</td>\n",
       "      <td>$100 OG is a 50/50 hybrid strain that packs a ...</td>\n",
       "    </tr>\n",
       "    <tr>\n",
       "      <th>1</th>\n",
       "      <td>98-White-Widow</td>\n",
       "      <td>[hybrid]</td>\n",
       "      <td>4.7</td>\n",
       "      <td>[Relaxed, Aroused, Creative, Happy, Energetic]</td>\n",
       "      <td>[Flowery, Violet, Diesel]</td>\n",
       "      <td>The 98 Aloha White Widow is an especially pote...</td>\n",
       "    </tr>\n",
       "    <tr>\n",
       "      <th>2</th>\n",
       "      <td>1024</td>\n",
       "      <td>[sativa]</td>\n",
       "      <td>4.4</td>\n",
       "      <td>[Uplifted, Happy, Relaxed, Energetic, Creative]</td>\n",
       "      <td>[Spicy/Herbal, Sage, Woody]</td>\n",
       "      <td>1024 is a sativa-dominant hybrid bred in Spain...</td>\n",
       "    </tr>\n",
       "    <tr>\n",
       "      <th>3</th>\n",
       "      <td>13-Dawgs</td>\n",
       "      <td>[hybrid]</td>\n",
       "      <td>4.2</td>\n",
       "      <td>[Tingly, Creative, Hungry, Relaxed, Uplifted]</td>\n",
       "      <td>[Apricot, Citrus, Grapefruit]</td>\n",
       "      <td>13 Dawgs is a hybrid of G13 and Chemdawg genet...</td>\n",
       "    </tr>\n",
       "    <tr>\n",
       "      <th>4</th>\n",
       "      <td>24K-Gold</td>\n",
       "      <td>[hybrid]</td>\n",
       "      <td>4.6</td>\n",
       "      <td>[Happy, Relaxed, Euphoric, Uplifted, Talkative]</td>\n",
       "      <td>[Citrus, Earthy, Orange]</td>\n",
       "      <td>Also known as Kosher Tangie, 24k Gold is a 60%...</td>\n",
       "    </tr>\n",
       "    <tr>\n",
       "      <th>5</th>\n",
       "      <td>3-Kings</td>\n",
       "      <td>[hybrid]</td>\n",
       "      <td>4.4</td>\n",
       "      <td>[Relaxed, Euphoric, Happy, Uplifted, Hungry]</td>\n",
       "      <td>[Earthy, Sweet, Pungent]</td>\n",
       "      <td>The 3 Kings marijuana strain, a holy trinity o...</td>\n",
       "    </tr>\n",
       "  </tbody>\n",
       "</table>\n",
       "</div>"
      ],
      "text/plain": [
       "           Strain      Type Rating  \\\n",
       "0          100-Og  [hybrid]    4.0   \n",
       "1  98-White-Widow  [hybrid]    4.7   \n",
       "2            1024  [sativa]    4.4   \n",
       "3        13-Dawgs  [hybrid]    4.2   \n",
       "4        24K-Gold  [hybrid]    4.6   \n",
       "5         3-Kings  [hybrid]    4.4   \n",
       "\n",
       "                                            Effects  \\\n",
       "0  [Creative, Energetic, Tingly, Euphoric, Relaxed]   \n",
       "1    [Relaxed, Aroused, Creative, Happy, Energetic]   \n",
       "2   [Uplifted, Happy, Relaxed, Energetic, Creative]   \n",
       "3     [Tingly, Creative, Hungry, Relaxed, Uplifted]   \n",
       "4   [Happy, Relaxed, Euphoric, Uplifted, Talkative]   \n",
       "5      [Relaxed, Euphoric, Happy, Uplifted, Hungry]   \n",
       "\n",
       "                          Flavor  \\\n",
       "0        [Earthy, Sweet, Citrus]   \n",
       "1      [Flowery, Violet, Diesel]   \n",
       "2    [Spicy/Herbal, Sage, Woody]   \n",
       "3  [Apricot, Citrus, Grapefruit]   \n",
       "4       [Citrus, Earthy, Orange]   \n",
       "5       [Earthy, Sweet, Pungent]   \n",
       "\n",
       "                                         Description  \n",
       "0  $100 OG is a 50/50 hybrid strain that packs a ...  \n",
       "1  The 98 Aloha White Widow is an especially pote...  \n",
       "2  1024 is a sativa-dominant hybrid bred in Spain...  \n",
       "3  13 Dawgs is a hybrid of G13 and Chemdawg genet...  \n",
       "4  Also known as Kosher Tangie, 24k Gold is a 60%...  \n",
       "5  The 3 Kings marijuana strain, a holy trinity o...  "
      ]
     },
     "execution_count": 5,
     "metadata": {},
     "output_type": "execute_result"
    }
   ],
   "source": [
    "#Changing Type cells from string to list\n",
    "for i in range(data.shape[0]):\n",
    "    data['Type'][i] = [data['Type'].iloc[i]]\n",
    "\n",
    "\n",
    "#Getting rid of nan and None values, in all columns, that were not caught during first data cleanup\n",
    "data.reset_index(drop=True)\n",
    "\n",
    "for i in range(data.shape[0]):\n",
    "    if data['Effects'][i] == ['None']:\n",
    "        data = data.drop(index=i)\n",
    "        \n",
    "data = data.reset_index(drop=True)\n",
    "\n",
    "\n",
    "#Removing outliers\n",
    "for i in range(data.shape[0]):\n",
    "    if data['Effects'][i] == ['Dry']:\n",
    "        data = data.drop(index=i)\n",
    "        \n",
    "data = data.reset_index(drop=True)\n",
    "\n",
    "for i in range(data.shape[0]):\n",
    "    if data['Effects'][i] == ['Mouth']:\n",
    "        data = data.drop(index=i)\n",
    "        \n",
    "data = data.reset_index(drop=True)\n",
    "\n",
    "for i in range(data.shape[0]):\n",
    "    if data['Flavor'][i] == ['None']:\n",
    "        data = data.drop(index=i)\n",
    "\n",
    "data = data.reset_index(drop=True)\n",
    "\n",
    "for i in range(data.shape[0]):\n",
    "    if data['Flavor'][i] == ['nan']:\n",
    "        data = data.drop(index=i)\n",
    "data = data.reset_index(drop=True)\n",
    "    \n",
    "data.head(6)"
   ]
  },
  {
   "cell_type": "code",
   "execution_count": 6,
   "metadata": {
    "scrolled": true
   },
   "outputs": [
    {
     "name": "stdout",
     "output_type": "stream",
     "text": [
      "['Creative' 'Relaxed' 'Uplifted' 'Tingly' 'Happy' 'Energetic' 'Euphoric'\n",
      " 'Focused' 'Sleepy' 'Hungry' 'Talkative' 'Aroused' 'Giggly' 'Dry']\n",
      "Number of different effects: 14\n"
     ]
    }
   ],
   "source": [
    "#List all of the effects\n",
    "effects_list = pd.Series(v[0] for v in data['Effects'])\n",
    "print(effects_list.unique())\n",
    "print('Number of different effects:', effects_list.unique().size)"
   ]
  },
  {
   "cell_type": "code",
   "execution_count": 7,
   "metadata": {},
   "outputs": [
    {
     "name": "stdout",
     "output_type": "stream",
     "text": [
      "['Earthy' 'Flowery' 'Spicy/Herbal' 'Apricot' 'Citrus' 'Pine' 'Diesel'\n",
      " 'Menthol' 'Lemon' 'Sweet' 'Pungent' 'Nutty' 'Skunk' 'Woody' 'Tobacco'\n",
      " 'Pepper' 'Cheese' 'Grape' 'Tropical' 'Blueberry' 'Berry' 'Apple'\n",
      " 'Ammonia' 'Strawberry' 'Minty' 'Lime' 'Mango' 'Peach' 'Blue' 'Sage'\n",
      " 'Butter' 'Vanilla' 'Coffee' 'Lavender' 'Chemical' 'Honey' 'Pineapple'\n",
      " 'Plum' 'Tar' 'Mint' 'Grapefruit' 'Orange' 'Tree' 'Rose' 'Violet' 'Tea'\n",
      " 'Pear']\n",
      "Number of different flavors: 47\n"
     ]
    }
   ],
   "source": [
    "#List all of the flavors\n",
    "flavors_list = pd.Series(v[0] for v in data['Flavor'])\n",
    "print(flavors_list.unique())\n",
    "print('Number of different flavors:', flavors_list.unique().size)"
   ]
  },
  {
   "cell_type": "code",
   "execution_count": 8,
   "metadata": {},
   "outputs": [
    {
     "name": "stdout",
     "output_type": "stream",
     "text": [
      "Shape after second data clean up: (2163, 6)\n"
     ]
    }
   ],
   "source": [
    "print(\"Shape after second data clean up:\", data.shape)"
   ]
  },
  {
   "cell_type": "markdown",
   "metadata": {},
   "source": [
    "We can see now that we have 14 unique effects and 47 flavors. We still have 2163 examples left after removing the strains with nan values. "
   ]
  },
  {
   "cell_type": "code",
   "execution_count": 9,
   "metadata": {},
   "outputs": [
    {
     "data": {
      "text/html": [
       "<div>\n",
       "<style scoped>\n",
       "    .dataframe tbody tr th:only-of-type {\n",
       "        vertical-align: middle;\n",
       "    }\n",
       "\n",
       "    .dataframe tbody tr th {\n",
       "        vertical-align: top;\n",
       "    }\n",
       "\n",
       "    .dataframe thead th {\n",
       "        text-align: right;\n",
       "    }\n",
       "</style>\n",
       "<table border=\"1\" class=\"dataframe\">\n",
       "  <thead>\n",
       "    <tr style=\"text-align: right;\">\n",
       "      <th></th>\n",
       "      <th>Strain</th>\n",
       "      <th>Type</th>\n",
       "      <th>Rating</th>\n",
       "      <th>Effects</th>\n",
       "      <th>Flavor</th>\n",
       "      <th>Description</th>\n",
       "    </tr>\n",
       "  </thead>\n",
       "  <tbody>\n",
       "    <tr>\n",
       "      <th>0</th>\n",
       "      <td>100-Og</td>\n",
       "      <td>2</td>\n",
       "      <td>4.0</td>\n",
       "      <td>[Creative, Energetic, Tingly, Euphoric, Relaxed]</td>\n",
       "      <td>[Earthy, Sweet, Citrus]</td>\n",
       "      <td>$100 OG is a 50/50 hybrid strain that packs a ...</td>\n",
       "    </tr>\n",
       "    <tr>\n",
       "      <th>1</th>\n",
       "      <td>98-White-Widow</td>\n",
       "      <td>2</td>\n",
       "      <td>4.7</td>\n",
       "      <td>[Relaxed, Aroused, Creative, Happy, Energetic]</td>\n",
       "      <td>[Flowery, Violet, Diesel]</td>\n",
       "      <td>The 98 Aloha White Widow is an especially pote...</td>\n",
       "    </tr>\n",
       "    <tr>\n",
       "      <th>2</th>\n",
       "      <td>1024</td>\n",
       "      <td>0</td>\n",
       "      <td>4.4</td>\n",
       "      <td>[Uplifted, Happy, Relaxed, Energetic, Creative]</td>\n",
       "      <td>[Spicy/Herbal, Sage, Woody]</td>\n",
       "      <td>1024 is a sativa-dominant hybrid bred in Spain...</td>\n",
       "    </tr>\n",
       "    <tr>\n",
       "      <th>3</th>\n",
       "      <td>13-Dawgs</td>\n",
       "      <td>2</td>\n",
       "      <td>4.2</td>\n",
       "      <td>[Tingly, Creative, Hungry, Relaxed, Uplifted]</td>\n",
       "      <td>[Apricot, Citrus, Grapefruit]</td>\n",
       "      <td>13 Dawgs is a hybrid of G13 and Chemdawg genet...</td>\n",
       "    </tr>\n",
       "    <tr>\n",
       "      <th>4</th>\n",
       "      <td>24K-Gold</td>\n",
       "      <td>2</td>\n",
       "      <td>4.6</td>\n",
       "      <td>[Happy, Relaxed, Euphoric, Uplifted, Talkative]</td>\n",
       "      <td>[Citrus, Earthy, Orange]</td>\n",
       "      <td>Also known as Kosher Tangie, 24k Gold is a 60%...</td>\n",
       "    </tr>\n",
       "  </tbody>\n",
       "</table>\n",
       "</div>"
      ],
      "text/plain": [
       "           Strain Type Rating  \\\n",
       "0          100-Og    2    4.0   \n",
       "1  98-White-Widow    2    4.7   \n",
       "2            1024    0    4.4   \n",
       "3        13-Dawgs    2    4.2   \n",
       "4        24K-Gold    2    4.6   \n",
       "\n",
       "                                            Effects  \\\n",
       "0  [Creative, Energetic, Tingly, Euphoric, Relaxed]   \n",
       "1    [Relaxed, Aroused, Creative, Happy, Energetic]   \n",
       "2   [Uplifted, Happy, Relaxed, Energetic, Creative]   \n",
       "3     [Tingly, Creative, Hungry, Relaxed, Uplifted]   \n",
       "4   [Happy, Relaxed, Euphoric, Uplifted, Talkative]   \n",
       "\n",
       "                          Flavor  \\\n",
       "0        [Earthy, Sweet, Citrus]   \n",
       "1      [Flowery, Violet, Diesel]   \n",
       "2    [Spicy/Herbal, Sage, Woody]   \n",
       "3  [Apricot, Citrus, Grapefruit]   \n",
       "4       [Citrus, Earthy, Orange]   \n",
       "\n",
       "                                         Description  \n",
       "0  $100 OG is a 50/50 hybrid strain that packs a ...  \n",
       "1  The 98 Aloha White Widow is an especially pote...  \n",
       "2  1024 is a sativa-dominant hybrid bred in Spain...  \n",
       "3  13 Dawgs is a hybrid of G13 and Chemdawg genet...  \n",
       "4  Also known as Kosher Tangie, 24k Gold is a 60%...  "
      ]
     },
     "execution_count": 9,
     "metadata": {},
     "output_type": "execute_result"
    }
   ],
   "source": [
    "for i in range(data.shape[0]):\n",
    "    if data['Type'][i] == ['sativa']:\n",
    "        data['Type'][i] = 0\n",
    "    elif data['Type'][i] == ['indica']:\n",
    "        data['Type'][i] = 1\n",
    "    elif data['Type'][i] == ['hybrid']:\n",
    "        data['Type'][i] = 2\n",
    "        \n",
    "#Sanity check\n",
    "data.head()"
   ]
  },
  {
   "cell_type": "code",
   "execution_count": 10,
   "metadata": {},
   "outputs": [],
   "source": [
    "#Splitting into training and test set (~85% and ~15% respectively)\n",
    "shuffled_data = shuffle(data, random_state=6).reset_index(drop=True)\n",
    "training_data = shuffled_data[:1838]\n",
    "testing_data = shuffled_data[-325:].reset_index(drop=True)"
   ]
  },
  {
   "cell_type": "markdown",
   "metadata": {},
   "source": [
    "Checking the correlation between type and effects."
   ]
  },
  {
   "cell_type": "code",
   "execution_count": 11,
   "metadata": {
    "scrolled": true
   },
   "outputs": [],
   "source": [
    "x_train_type_effects = training_data[['Effects']]\n",
    "y_train_type_effects = training_data[['Type']]\n",
    "\n",
    "y_train_type_effects = y_train_type_effects.astype('int')\n",
    "\n",
    "x_test_type_effects = testing_data[['Effects']]\n",
    "y_test_type_effects = testing_data[['Type']]\n",
    "\n",
    "y_test_type_effects = y_test_type_effects.astype('int')\n",
    "\n",
    "x_train_type_effects_one = one_hot_encoding(x_train_type_effects, 'Effects')\n",
    "x_test_type_effects_one = one_hot_encoding(x_test_type_effects, 'Effects')\n",
    "\n",
    "#Removing outlier effects: 'Dry' and 'Mouth'\n",
    "x_train_type_effects_one = x_train_type_effects_one.drop(columns=['Dry', 'Mouth'])\n"
   ]
  },
  {
   "cell_type": "markdown",
   "metadata": {},
   "source": [
    "Lets compare some classifiers to predict Type from Effects"
   ]
  },
  {
   "cell_type": "code",
   "execution_count": 12,
   "metadata": {},
   "outputs": [
    {
     "name": "stderr",
     "output_type": "stream",
     "text": [
      "/anaconda3/envs/pytorch2/lib/python3.6/site-packages/sklearn/utils/validation.py:578: DataConversionWarning: A column-vector y was passed when a 1d array was expected. Please change the shape of y to (n_samples, ), for example using ravel().\n",
      "  y = column_or_1d(y, warn=True)\n"
     ]
    },
    {
     "name": "stdout",
     "output_type": "stream",
     "text": [
      "The score for naive Bayes is: 0.6030769230769231\n",
      "The score for logistic regression is: 0.6215384615384615\n",
      "The score for SVM is: 0.6184615384615385\n",
      "The most accurate classifier is Logistic Regression!\n"
     ]
    }
   ],
   "source": [
    "gnb = GaussianNB()\n",
    "gnb.fit(x_train_type_effects_one, y_train_type_effects)\n",
    "gnb_score = gnb.score(x_test_type_effects_one, y_test_type_effects)\n",
    "print('The score for naive Bayes is:' , gnb_score)\n",
    "\n",
    "from sklearn.linear_model import LogisticRegression\n",
    "log_reg = LogisticRegression()\n",
    "log_reg.fit(x_train_type_effects_one, y_train_type_effects)\n",
    "log_reg_score = log_reg.score(x_test_type_effects_one, y_test_type_effects)\n",
    "print('The score for logistic regression is:' , log_reg_score)\n",
    "\n",
    "from sklearn import svm\n",
    "svm = svm.SVC()\n",
    "svm.fit(x_train_type_effects_one, y_train_type_effects)\n",
    "svm_score = svm.score(x_test_type_effects_one, y_test_type_effects)\n",
    "print('The score for SVM is:' , svm_score)\n",
    "\n",
    "max_score1 = max(svm_score,log_reg_score,gnb_score)\n",
    "if max_score1 == svm_score:\n",
    "    print('The most accurate classifier is SVM!')\n",
    "elif max_score1 == log_reg_score:\n",
    "        print('The most accurate classifier is Logistic Regression!')\n",
    "elif max_score1 == gnb_score:\n",
    "        print('The most accurate classifier is Naive Bayes!')"
   ]
  },
  {
   "cell_type": "markdown",
   "metadata": {},
   "source": [
    "Now lets see if the type has any correlation with flavours"
   ]
  },
  {
   "cell_type": "code",
   "execution_count": 13,
   "metadata": {},
   "outputs": [],
   "source": [
    "x_train_type_flavors = training_data[['Flavor']]\n",
    "y_train_type_flavors = training_data[['Type']]\n",
    "\n",
    "y_train_type_flavors = y_train_type_flavors.astype('int')\n",
    "\n",
    "x_test_type_flavors = testing_data[['Flavor']]\n",
    "y_test_type_flavors = testing_data[['Type']]\n",
    "\n",
    "y_test_type_flavors = y_test_type_flavors.astype('int')\n",
    "\n",
    "x_train_type_flavors_one = one_hot_encoding(x_train_type_flavors, 'Flavor')\n",
    "x_test_type_flavors_one = one_hot_encoding(x_test_type_flavors, 'Flavor')\n",
    "\n",
    "#Removing outlier flavor and 'Tobacco'\n",
    "x_train_type_flavors_one = x_train_type_flavors_one.drop(columns=['Tobacco'])\n",
    "\n"
   ]
  },
  {
   "cell_type": "code",
   "execution_count": 14,
   "metadata": {},
   "outputs": [
    {
     "name": "stdout",
     "output_type": "stream",
     "text": [
      "The score for naive Bayes is: 0.26153846153846155\n",
      "The score for logistic regression is: 0.5230769230769231\n"
     ]
    },
    {
     "name": "stderr",
     "output_type": "stream",
     "text": [
      "/anaconda3/envs/pytorch2/lib/python3.6/site-packages/sklearn/utils/validation.py:578: DataConversionWarning: A column-vector y was passed when a 1d array was expected. Please change the shape of y to (n_samples, ), for example using ravel().\n",
      "  y = column_or_1d(y, warn=True)\n"
     ]
    },
    {
     "name": "stdout",
     "output_type": "stream",
     "text": [
      "The score for SVM is: 0.5138461538461538\n",
      "The most accurate classifier is Logistic Regression!\n"
     ]
    }
   ],
   "source": [
    "gnb2 = GaussianNB()\n",
    "gnb2.fit(x_train_type_flavors_one, y_train_type_flavors)\n",
    "gnb_score2 = gnb2.score(x_test_type_flavors_one, y_test_type_flavors)\n",
    "print('The score for naive Bayes is:' , gnb_score2)\n",
    "\n",
    "from sklearn.linear_model import LogisticRegression\n",
    "log_reg2 = LogisticRegression()\n",
    "log_reg2.fit(x_train_type_flavors_one, y_train_type_flavors)\n",
    "log_reg_score2 = log_reg2.score(x_test_type_flavors_one, y_test_type_flavors)\n",
    "print('The score for logistic regression is:' , log_reg_score2)\n",
    "\n",
    "from sklearn import svm\n",
    "svm2 = svm.SVC()\n",
    "svm2.fit(x_train_type_flavors_one, y_train_type_flavors)\n",
    "svm_score2 = svm2.score(x_test_type_flavors_one, y_test_type_flavors)\n",
    "print('The score for SVM is:' , svm_score2)\n",
    "\n",
    "max_score2 = max(svm_score2,log_reg_score2,gnb_score2)\n",
    "if max_score2 == svm_score2:\n",
    "    print('The most accurate classifier is SVM!')\n",
    "elif max_score2 == log_reg_score2:\n",
    "        print('The most accurate classifier is Logistic Regression!')\n",
    "elif max_score2 == gnb_score2:\n",
    "        print('The most accurate classifier is Naive Bayes!')"
   ]
  },
  {
   "cell_type": "markdown",
   "metadata": {},
   "source": [
    "Now lets try to make a prediction algorithm that can predict the rating based off of various features. First lets visually look at the relationship between type and rating"
   ]
  },
  {
   "cell_type": "code",
   "execution_count": 15,
   "metadata": {},
   "outputs": [
    {
     "name": "stdout",
     "output_type": "stream",
     "text": [
      "Average sativa rating: 4.41\n",
      "Average indica rating: 4.44\n",
      "Average hybrid rating: 4.44\n"
     ]
    },
    {
     "data": {
      "image/png": "[encoded data removed]",
      "text/plain": [
       "<Figure size 432x288 with 1 Axes>"
      ]
     },
     "metadata": {},
     "output_type": "display_data"
    }
   ],
   "source": [
    "rating_int = data[['Rating']]\n",
    "type_int = data[['Type']]\n",
    "\n",
    "rating_int = rating_int.astype('float')\n",
    "type_int = type_int.astype('int')\n",
    "\n",
    "\n",
    "average_ratings_from_type = []\n",
    "sativa_rating = 0\n",
    "sativa_count = 0\n",
    "indica_rating = 0\n",
    "indica_count = 0\n",
    "hybrid_rating = 0\n",
    "hybrid_count = 0\n",
    "for i in range(data.shape[0]):\n",
    "    if type_int['Type'][i] == 0:\n",
    "        sativa_rating = sativa_rating + rating_int['Rating'][i]\n",
    "        sativa_count = sativa_count + 1\n",
    "    elif type_int['Type'][i] == 1:\n",
    "        indica_rating = indica_rating + rating_int['Rating'][i]\n",
    "        indica_count = indica_count + 1\n",
    "    elif type_int['Type'][i] == 2:\n",
    "        hybrid_rating = hybrid_rating + rating_int['Rating'][i]\n",
    "        hybrid_count = hybrid_count + 1\n",
    "        \n",
    "sativa_rating = sativa_rating / sativa_count\n",
    "indica_rating = indica_rating / indica_count\n",
    "hybrid_rating = hybrid_rating / hybrid_count\n",
    "average_ratings_from_type.append(sativa_rating)\n",
    "average_ratings_from_type.append(indica_rating)\n",
    "average_ratings_from_type.append(hybrid_rating)\n",
    "\n",
    "print('Average sativa rating:', \"%.2f\" % sativa_rating)\n",
    "print('Average indica rating:', \"%.2f\" % indica_rating)\n",
    "print('Average hybrid rating:', \"%.2f\" % hybrid_rating)\n",
    "\n",
    "\n",
    "plt.bar(['Sativa','Indica', 'Hybrid'], average_ratings_from_type, width = 0.3, color = ['green','magenta','blue'])\n",
    "plt.xlabel('Type')\n",
    "plt.ylabel('Rating (0-5)')\n",
    "type_xticks = ['Sativa','Indica', 'Hybrid']\n",
    "plt.xticks(type_xticks)\n",
    "plt.show()"
   ]
  },
  {
   "cell_type": "markdown",
   "metadata": {},
   "source": [
    "So all types of cannabis have a similar rating, the only difference being sativa is rated slightly lower than indica and hybrid. Lets look to see if we can predict the rating of a strain given its flavours, effects and type. Since we are predicting a continuous output, linear regression will be used for this prediction. "
   ]
  },
  {
   "cell_type": "code",
   "execution_count": 16,
   "metadata": {},
   "outputs": [],
   "source": [
    "x_train_rating_flavour_one = x_train_type_flavors_one\n",
    "x_test_rating_flavour_one = x_test_type_flavors_one\n",
    "\n",
    "rating_training_int = training_data[['Rating']]\n",
    "rating_training_int = rating_training_int.astype('float')\n",
    "\n",
    "rating_testing_int = testing_data[['Rating']]\n",
    "rating_testing_int = rating_testing_int.astype('float')"
   ]
  },
  {
   "cell_type": "code",
   "execution_count": 17,
   "metadata": {},
   "outputs": [
    {
     "name": "stdout",
     "output_type": "stream",
     "text": [
      "The r-squared coefficient is: -8.04\n",
      "The accuracy is: -0.18\n"
     ]
    }
   ],
   "source": [
    "from sklearn.linear_model import LinearRegression\n",
    "from sklearn.metrics import r2_score\n",
    "linear = LinearRegression()\n",
    "linear.fit(x_train_rating_flavour_one, rating_training_int)\n",
    "linear_score = linear.score(x_test_rating_flavour_one, rating_testing_int)\n",
    "linear_predict = linear.predict(x_test_rating_flavour_one)\n",
    "\n",
    "for i in range(len(linear_predict)):\n",
    "    linear_predict[i][0] = round(linear_predict[i][0], 1)\n",
    "\n",
    "r_score = r2_score(linear_predict, rating_testing_int)\n",
    "print(\"The r-squared coefficient is:\", \"%.2f\" % r_score)\n",
    "print('The accuracy is:', \"%.2f\" % linear_score)"
   ]
  },
  {
   "cell_type": "code",
   "execution_count": 18,
   "metadata": {},
   "outputs": [
    {
     "name": "stdout",
     "output_type": "stream",
     "text": [
      "The r-squared coefficient is: -18.91\n",
      "The accuracy is: -0.02\n"
     ]
    }
   ],
   "source": [
    "x_train_rating_effects_one = x_train_type_effects_one\n",
    "x_test_rating_effects_one = x_test_type_effects_one\n",
    "\n",
    "linear1 = LinearRegression()\n",
    "linear1.fit(x_train_rating_effects_one, rating_training_int)\n",
    "linear_score1 = linear1.score(x_test_rating_effects_one, rating_testing_int)\n",
    "linear_predict1 = linear1.predict(x_test_rating_effects_one)\n",
    "\n",
    "for i in range(len(linear_predict1)):\n",
    "    linear_predict1[i][0] = round(linear_predict1[i][0], 1)\n",
    "\n",
    "r_score1 = r2_score(linear_predict1, rating_testing_int)\n",
    "print(\"The r-squared coefficient is:\", \"%.2f\" % r_score1)\n",
    "print('The accuracy is:', \"%.2f\" % linear_score1)"
   ]
  },
  {
   "cell_type": "markdown",
   "metadata": {},
   "source": [
    "Using type, effects and flavors to predict rating."
   ]
  },
  {
   "cell_type": "code",
   "execution_count": 19,
   "metadata": {},
   "outputs": [],
   "source": [
    "rating_training_pred = pd.merge(x_train_rating_effects_one, x_train_rating_flavour_one, right_index=True, left_index=True)\n",
    "rating_training_pred = pd.merge(rating_training_pred, y_train_type_flavors, right_index=True, left_index=True)\n",
    "\n",
    "rating_testing_pred = pd.merge(x_test_rating_effects_one, x_test_rating_flavour_one, right_index=True, left_index=True)\n",
    "rating_testing_pred = pd.merge(rating_testing_pred, y_test_type_flavors, right_index=True, left_index=True)\n"
   ]
  },
  {
   "cell_type": "code",
   "execution_count": 20,
   "metadata": {},
   "outputs": [
    {
     "name": "stdout",
     "output_type": "stream",
     "text": [
      "The r-squared coefficient is: -4.61\n",
      "The accuracy is: -0.36\n"
     ]
    }
   ],
   "source": [
    "linear2 = LinearRegression()\n",
    "linear2.fit(rating_training_pred, rating_training_int)\n",
    "linear_score2 = linear2.score(rating_testing_pred, rating_testing_int)\n",
    "linear_predict2 = linear2.predict(rating_testing_pred)\n",
    "\n",
    "for i in range(len(linear_predict2)):\n",
    "    linear_predict2[i][0] = round(linear_predict2[i][0], 1)\n",
    "    \n",
    "\n",
    "\n",
    "r_score2 = r2_score(linear_predict2, rating_testing_int)\n",
    "print(\"The r-squared coefficient is:\", \"%.2f\" % r_score2)\n",
    "print('The accuracy is:', \"%.2f\" % linear_score2)"
   ]
  },
  {
   "cell_type": "markdown",
   "metadata": {},
   "source": [
    "It is clearly shown that there is no correlation between any of the features and the rating (using a linear regression model). This implies that all flavours, types and effects can range in quality. For example, the effect 'uplifting' might not be the greatest feeling for a particular strain. Or 'uplifting' might be a really good quality for that particular strain and so people rate the strain higher. It is not clear why this is. \n",
    "\n",
    "\n",
    "Now lets try to predict the type with both the effects and flavours!"
   ]
  },
  {
   "cell_type": "code",
   "execution_count": 21,
   "metadata": {},
   "outputs": [
    {
     "name": "stderr",
     "output_type": "stream",
     "text": [
      "/anaconda3/envs/pytorch2/lib/python3.6/site-packages/sklearn/utils/validation.py:578: DataConversionWarning: A column-vector y was passed when a 1d array was expected. Please change the shape of y to (n_samples, ), for example using ravel().\n",
      "  y = column_or_1d(y, warn=True)\n"
     ]
    },
    {
     "name": "stdout",
     "output_type": "stream",
     "text": [
      "The score for naive Bayes is: 0.28923076923076924\n",
      "The score for logistic regression is: 0.6338461538461538\n",
      "The score for SVM is: 0.6\n",
      "The most accurate classifier is Logistic Regression!\n"
     ]
    }
   ],
   "source": [
    "combined_type_pred_train = rating_training_pred.drop(columns = ['Type'])\n",
    "combined_type_pred_test = rating_testing_pred.drop(columns = ['Type'])\n",
    "\n",
    "gnb3 = GaussianNB()\n",
    "gnb3.fit(combined_type_pred_train, y_train_type_flavors)\n",
    "gnb_score3 = gnb3.score(combined_type_pred_test, y_test_type_flavors)\n",
    "print('The score for naive Bayes is:' , gnb_score3)\n",
    "\n",
    "log_reg3 = LogisticRegression()\n",
    "log_reg3.fit(combined_type_pred_train, y_train_type_flavors)\n",
    "log_reg_score3 = log_reg3.score(combined_type_pred_test, y_test_type_flavors)\n",
    "print('The score for logistic regression is:' , log_reg_score3)\n",
    "\n",
    "svm3 = svm.SVC()\n",
    "svm3.fit(combined_type_pred_train, y_train_type_flavors)\n",
    "svm_score3 = svm3.score(combined_type_pred_test, y_test_type_flavors)\n",
    "print('The score for SVM is:' , svm_score3)\n",
    "\n",
    "max_score3 = max(svm_score3,log_reg_score3,gnb_score3)\n",
    "if max_score3 == svm_score3:\n",
    "    print('The most accurate classifier is SVM!')\n",
    "elif max_score3 == log_reg_score3:\n",
    "        print('The most accurate classifier is Logistic Regression!')\n",
    "elif max_score3 == gnb_score3:\n",
    "        print('The most accurate classifier is Naive Bayes!')"
   ]
  },
  {
   "cell_type": "markdown",
   "metadata": {},
   "source": [
    "The next section revolves around using Term-Frequency Inverse Document Frequency (TF-IDF) in order to create two functions: 1) a function that recommends a strain based off of another strain, and 2) a function that recommends a strain based off of the description that a user desires."
   ]
  },
  {
   "cell_type": "code",
   "execution_count": 22,
   "metadata": {},
   "outputs": [
    {
     "name": "stderr",
     "output_type": "stream",
     "text": [
      "/anaconda3/envs/pytorch2/lib/python3.6/site-packages/ipykernel_launcher.py:8: SettingWithCopyWarning: \n",
      "A value is trying to be set on a copy of a slice from a DataFrame.\n",
      "Try using .loc[row_indexer,col_indexer] = value instead\n",
      "\n",
      "See the caveats in the documentation: http://pandas.pydata.org/pandas-docs/stable/indexing.html#indexing-view-versus-copy\n",
      "  \n"
     ]
    },
    {
     "data": {
      "text/plain": [
       "(2163, 9101)"
      ]
     },
     "execution_count": 22,
     "metadata": {},
     "output_type": "execute_result"
    }
   ],
   "source": [
    "#TF-IDF simlarity\n",
    "\n",
    "#Separating the data\n",
    "description_data = data[['Strain','Description']]\n",
    "\n",
    "#Removing all 'stop words' such as \"the\", \"a\" and replacing NaN with empty strings\n",
    "tfidf = TfidfVectorizer(stop_words='english')\n",
    "description_data['Description'] = description_data['Description'].fillna('')\n",
    "\n",
    "#Construct the tfidf matrix by fitting and transforming the data\n",
    "tfidf_matrix = tfidf.fit_transform(description_data['Description'])\n",
    "\n",
    "#Output the shape of tfidf_matrix\n",
    "tfidf_matrix.shape"
   ]
  },
  {
   "cell_type": "markdown",
   "metadata": {},
   "source": [
    "This means that there are 9101 unique words used to describe the strains.\n",
    "\n",
    "I will use the cosine similarity as the distance metric between strains. It is defined as:\n",
    "\n",
    "cosine(x,y) = (x.y.T)/(||x||.||y||)\n",
    "\n",
    "This is just the normalized dot-product between x and y, so we can use linear_kernal. Then the goal will be to return the top 5 most similar strains based off of the cosine similarity matrix."
   ]
  },
  {
   "cell_type": "code",
   "execution_count": 23,
   "metadata": {},
   "outputs": [],
   "source": [
    "strain_distance = linear_kernel(tfidf_matrix, tfidf_matrix)\n",
    "indices = pd.Series(description_data.index, index=description_data['Strain'])\n",
    "\n",
    "def recommend_a_strain(Strain, cosine_similarity=strain_distance):\n",
    "    #Locate index of that strain\n",
    "    index = indices[Strain]\n",
    "    \n",
    "    #Return list of cosine similarity scores for the given index and then sort them\n",
    "    similarity = list(enumerate(cosine_similarity[index]))\n",
    "    similarity = sorted(similarity, key=lambda x: x[1], reverse=True)\n",
    "    \n",
    "    #Return list of top 5 strains while ignoring the first because it is the input strain\n",
    "    similarity = similarity[1:6]\n",
    "    \n",
    "    #Returning the indice with the strain\n",
    "    strain_indices = [i[0] for i in similarity]\n",
    "    return description_data['Strain'].iloc[strain_indices]\n"
   ]
  },
  {
   "cell_type": "code",
   "execution_count": 24,
   "metadata": {
    "scrolled": true
   },
   "outputs": [
    {
     "data": {
      "text/plain": [
       "115                Arcticblue\n",
       "576              Crystalberry\n",
       "271                 Blue-Hash\n",
       "578        Dj-Short-Blueberry\n",
       "238    Blackberry-X-Blueberry\n",
       "Name: Strain, dtype: object"
      ]
     },
     "execution_count": 24,
     "metadata": {},
     "output_type": "execute_result"
    }
   ],
   "source": [
    "#Examples\n",
    "recommend_a_strain('Blueberry')"
   ]
  },
  {
   "cell_type": "code",
   "execution_count": 25,
   "metadata": {
    "scrolled": true
   },
   "outputs": [
    {
     "data": {
      "text/plain": [
       "176        Berry-Og\n",
       "1671    Sfv-Og-Kush\n",
       "992         Ig-Kush\n",
       "956     Hellfire-Og\n",
       "1664     Rudeboi-Og\n",
       "Name: Strain, dtype: object"
      ]
     },
     "execution_count": 25,
     "metadata": {},
     "output_type": "execute_result"
    }
   ],
   "source": [
    "recommend_a_strain('Og-Kush')"
   ]
  },
  {
   "cell_type": "code",
   "execution_count": 26,
   "metadata": {},
   "outputs": [],
   "source": [
    "def return_description(strain):\n",
    "    j = -1\n",
    "    for i in data['Strain']:\n",
    "        j += 1\n",
    "        if i == strain:\n",
    "            print(data['Description'][j])\n",
    "            return"
   ]
  },
  {
   "cell_type": "code",
   "execution_count": 27,
   "metadata": {},
   "outputs": [
    {
     "name": "stdout",
     "output_type": "stream",
     "text": [
      "The illustrious Haze sativa first took root in Santa Cruz, California during the 1960s where long growing seasons accommodated her lengthy flowering cycle. Since then, Haze has become the proud parent of countless hybrids around the globe, passing on its genetics from Colombia, Mexico, Thailand, and South India. Although Haze cultivators must wait patiently for Haze flowers to reach full maturation, few strains can match the high-energy, creative buzz provided by this sativa staple. Haze's aroma is typically characterized by a spicy scent accented by hints of citrus and earthy sweetness.\n"
     ]
    }
   ],
   "source": [
    "return_description('Haze')"
   ]
  },
  {
   "cell_type": "markdown",
   "metadata": {},
   "source": [
    "We have now made a recommender system based off of another strain. We will make a system where the input is a description and the output is the most similar strain. "
   ]
  },
  {
   "cell_type": "code",
   "execution_count": 28,
   "metadata": {},
   "outputs": [],
   "source": [
    "description_data2 = data[['Strain','Description']]\n",
    "\n",
    "def strain_from_description(Description, description_data2=description_data2):\n",
    "    #Insert new strain to description and then clean\n",
    "    #description_data2 = description_data2 + new strain (name and description)\n",
    "    d = {'Strain': ['Random-Strain'], 'Description': [Description]}\n",
    "    df2 = pd.DataFrame(data=d)\n",
    "    \n",
    "    description_data2 = description_data2.append(df2, ignore_index=True)\n",
    "    description_data2['Description'] = description_data2['Description'].fillna('')\n",
    "   \n",
    "    #Construct the tfidf matrix by fitting and transforming the data\n",
    "    tfidf_matrix2 = tfidf.fit_transform(description_data2['Description'])\n",
    "    \n",
    "    #Define distance metric and index\n",
    "    strain_distance = linear_kernel(tfidf_matrix2, tfidf_matrix2)\n",
    "    indices = pd.Series(description_data2.index, index=description_data2['Strain'])\n",
    "    \n",
    "    #Create new strain with index\n",
    "    index = indices['Random-Strain']\n",
    "    print(index)\n",
    "    #Return list of cosine similarity scores for the given index and then sort them\n",
    "    similarity = list(enumerate(strain_distance[index]))\n",
    "\n",
    "    similarity = sorted(similarity, key=lambda x: x[1], reverse=True)\n",
    "\n",
    "    #Return list of top 5 strains while ignoring the first because it is the input strain\n",
    "    similarity = similarity[1:6]\n",
    "    \n",
    "    #Returning the indice with the strain\n",
    "    strain_indices = [i[0] for i in similarity]\n",
    "    return description_data2['Strain'].iloc[strain_indices]"
   ]
  },
  {
   "cell_type": "code",
   "execution_count": 29,
   "metadata": {},
   "outputs": [
    {
     "name": "stdout",
     "output_type": "stream",
     "text": [
      "2163\n"
     ]
    },
    {
     "data": {
      "text/plain": [
       "1780       Sour-Flower\n",
       "2093    White-Elephant\n",
       "1537      Purple-Arrow\n",
       "366          Bubblegun\n",
       "1838        Strawberry\n",
       "Name: Strain, dtype: object"
      ]
     },
     "execution_count": 29,
     "metadata": {},
     "output_type": "execute_result"
    }
   ],
   "source": [
    "#Examples\n",
    "strain_from_description('relaxing and uplifting with pain relief')"
   ]
  },
  {
   "cell_type": "code",
   "execution_count": 30,
   "metadata": {},
   "outputs": [
    {
     "name": "stdout",
     "output_type": "stream",
     "text": [
      "Sour Flower provides an uplifting sativa high and is good for relieving pain and anxiety. \n"
     ]
    }
   ],
   "source": [
    "return_description('Sour-Flower')"
   ]
  },
  {
   "cell_type": "code",
   "execution_count": 31,
   "metadata": {},
   "outputs": [
    {
     "name": "stdout",
     "output_type": "stream",
     "text": [
      "2163\n"
     ]
    },
    {
     "data": {
      "text/plain": [
       "1769              Sour-Bubba\n",
       "2008                   Trash\n",
       "1173    Lemon-Larry-Lavender\n",
       "906               Hades-Haze\n",
       "2161               Zombie-Og\n",
       "Name: Strain, dtype: object"
      ]
     },
     "execution_count": 31,
     "metadata": {},
     "output_type": "execute_result"
    }
   ],
   "source": [
    "#Examples\n",
    "strain_from_description('giggly and hungry, perfect for video games')"
   ]
  },
  {
   "cell_type": "code",
   "execution_count": 32,
   "metadata": {},
   "outputs": [
    {
     "name": "stdout",
     "output_type": "stream",
     "text": [
      "Sour Bubba blends two famous strains that are robust all on their ownbut, when unified,show unique flavors and effects that speak to their long, potent lineages. With forward-leaning mental stimulation brought on by Diesel and a high-end Kush oriented body aura brought on byBubba, Sour Bubba relaxes while providing ample mental energy to enjoy stationary activities like board games, video games, and movies. \n"
     ]
    }
   ],
   "source": [
    "return_description('Sour-Bubba')"
   ]
  },
  {
   "cell_type": "code",
   "execution_count": 33,
   "metadata": {},
   "outputs": [
    {
     "name": "stdout",
     "output_type": "stream",
     "text": [
      "2163\n"
     ]
    },
    {
     "data": {
      "text/plain": [
       "320      Blueberry-Kush\n",
       "1499        Pink-Sunset\n",
       "2073            Webster\n",
       "592         Darkside-Og\n",
       "1965    The-Brotherhood\n",
       "Name: Strain, dtype: object"
      ]
     },
     "execution_count": 33,
     "metadata": {},
     "output_type": "execute_result"
    }
   ],
   "source": [
    "#Examples\n",
    "strain_from_description('before bed body high')"
   ]
  },
  {
   "cell_type": "code",
   "execution_count": 34,
   "metadata": {},
   "outputs": [
    {
     "name": "stdout",
     "output_type": "stream",
     "text": [
      "Blueberry Kush is a strong indica strain that slowly brings on a heavy body sensation, helping patients forget their pain and relax. Originally from Oregon, this strain is a hybridofBlueberryandOG Kush, which is evident in its fresh berry aroma with notes of earthy herbalness. This indica is best for evenings or before bed.\n"
     ]
    }
   ],
   "source": [
    "return_description('Blueberry-Kush')"
   ]
  },
  {
   "cell_type": "code",
   "execution_count": null,
   "metadata": {},
   "outputs": [],
   "source": []
  }
 ],
 "metadata": {
  "kernelspec": {
   "display_name": "Python 3",
   "language": "python",
   "name": "python3"
  },
  "language_info": {
   "codemirror_mode": {
    "name": "ipython",
    "version": 3
   },
   "file_extension": ".py",
   "mimetype": "text/x-python",
   "name": "python",
   "nbconvert_exporter": "python",
   "pygments_lexer": "ipython3",
   "version": "3.6.5"
  }
 },
 "nbformat": 4,
 "nbformat_minor": 2
}
